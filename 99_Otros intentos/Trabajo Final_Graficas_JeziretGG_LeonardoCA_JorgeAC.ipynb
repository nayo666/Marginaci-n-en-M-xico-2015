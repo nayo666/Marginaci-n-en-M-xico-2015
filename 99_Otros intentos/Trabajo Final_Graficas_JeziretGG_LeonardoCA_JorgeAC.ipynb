{
 "cells": [
  {
   "cell_type": "markdown",
   "metadata": {},
   "source": [
    " # Trabajo Final\n",
    "Análisis exploratorio de datos\n",
    "\n",
    "Jeziret Sahadi González Gallardo\n",
    "\n",
    "Jorge Eduardo Cárdenas Arroyo\n",
    "\n",
    "Leonardo Coronado Arvayo\n"
   ]
  },
  {
   "cell_type": "markdown",
   "metadata": {},
   "source": [
    "# La base utilizada para este trabajo es de un estudio sobre depredación de semillas en la Reserva de la Biosfera Sierra de Manantlán. Contiene la descripción para tres sitios (gradientes altitudinales) dentro de la RBSM."
   ]
  },
  {
   "cell_type": "code",
   "execution_count": 69,
   "metadata": {},
   "outputs": [],
   "source": [
    "#importamos librerías\n",
    "\n",
    "import seaborn as sns\n",
    "import pandas as pd\n",
    "import pysal as ps\n",
    "import geopandas as gpd\n",
    "import numpy as np\n",
    "import contextily as ctx\n",
    "import matplotlib.pyplot as plt\n",
    "\n",
    "%matplotlib inline\n",
    "\n",
    "import seaborn as sns\n",
    "import pandas as pd\n",
    "import pysal as ps\n",
    "import geopandas as gpd\n",
    "import numpy as np\n",
    "import matplotlib.pyplot as plt\n",
    "from sklearn import cluster\n",
    "from libpysal import weights as ct\n",
    "import pysal.lib.weights.set_operations as Wsets\n",
    "\n",
    "import warnings\n",
    "warnings.filterwarnings('ignore')\n",
    "\n",
    "np.random.seed(123)"
   ]
  },
  {
   "cell_type": "code",
   "execution_count": 64,
   "metadata": {},
   "outputs": [],
   "source": [
    "#importamos la base de datos desde su ubicación\n",
    "\n",
    "base = pd.read_csv(\"C:/Users/Jeziret/Documents/CentroGeo/III/Geoinformatica/Trabajo final/manantlal.csv\")"
   ]
  },
  {
   "cell_type": "markdown",
   "metadata": {},
   "source": [
    "# Exploración de tabla y datos general"
   ]
  },
  {
   "cell_type": "code",
   "execution_count": 3,
   "metadata": {},
   "outputs": [
    {
     "data": {
      "text/html": [
       "<div>\n",
       "<style scoped>\n",
       "    .dataframe tbody tr th:only-of-type {\n",
       "        vertical-align: middle;\n",
       "    }\n",
       "\n",
       "    .dataframe tbody tr th {\n",
       "        vertical-align: top;\n",
       "    }\n",
       "\n",
       "    .dataframe thead th {\n",
       "        text-align: right;\n",
       "    }\n",
       "</style>\n",
       "<table border=\"1\" class=\"dataframe\">\n",
       "  <thead>\n",
       "    <tr style=\"text-align: right;\">\n",
       "      <th></th>\n",
       "      <th>Especie</th>\n",
       "      <th>Acronimo</th>\n",
       "      <th>Poblacion</th>\n",
       "      <th>Sitio</th>\n",
       "      <th>Paraje</th>\n",
       "      <th>Altitud</th>\n",
       "      <th>Exposicion</th>\n",
       "      <th>Pendiente_porc</th>\n",
       "      <th>Cantidad_Luz</th>\n",
       "      <th>N_Adultos</th>\n",
       "      <th>N_Juveniles</th>\n",
       "      <th>Tipo_vegetación</th>\n",
       "      <th>Posicion_topo</th>\n",
       "      <th>Este</th>\n",
       "      <th>Oeste</th>\n",
       "      <th>Fecha_caract</th>\n",
       "      <th>Observaciones</th>\n",
       "    </tr>\n",
       "  </thead>\n",
       "  <tbody>\n",
       "    <tr>\n",
       "      <th>0</th>\n",
       "      <td>Q. nixoniana</td>\n",
       "      <td>Qnx</td>\n",
       "      <td>3</td>\n",
       "      <td>1</td>\n",
       "      <td>Almial</td>\n",
       "      <td>2159</td>\n",
       "      <td>NE</td>\n",
       "      <td>5.0</td>\n",
       "      <td>580.0</td>\n",
       "      <td>2.0</td>\n",
       "      <td>59.0</td>\n",
       "      <td>QQ</td>\n",
       "      <td>LA</td>\n",
       "      <td>578690</td>\n",
       "      <td>2163575</td>\n",
       "      <td>28-ene-19</td>\n",
       "      <td>NaN</td>\n",
       "    </tr>\n",
       "    <tr>\n",
       "      <th>1</th>\n",
       "      <td>Q. nixoniana</td>\n",
       "      <td>Qnx</td>\n",
       "      <td>3</td>\n",
       "      <td>2</td>\n",
       "      <td>Mirador</td>\n",
       "      <td>2100</td>\n",
       "      <td>SO</td>\n",
       "      <td>80.0</td>\n",
       "      <td>1140.0</td>\n",
       "      <td>1.0</td>\n",
       "      <td>0.0</td>\n",
       "      <td>PQ</td>\n",
       "      <td>LM</td>\n",
       "      <td>577007</td>\n",
       "      <td>2165135</td>\n",
       "      <td>28-ene-19</td>\n",
       "      <td>NaN</td>\n",
       "    </tr>\n",
       "    <tr>\n",
       "      <th>2</th>\n",
       "      <td>Q. nixoniana</td>\n",
       "      <td>Qnx</td>\n",
       "      <td>3</td>\n",
       "      <td>3</td>\n",
       "      <td>Mirador</td>\n",
       "      <td>2069</td>\n",
       "      <td>NO</td>\n",
       "      <td>40.0</td>\n",
       "      <td>203.0</td>\n",
       "      <td>4.0</td>\n",
       "      <td>1.0</td>\n",
       "      <td>QQ</td>\n",
       "      <td>LM</td>\n",
       "      <td>576986</td>\n",
       "      <td>2165383</td>\n",
       "      <td>28-ene-19</td>\n",
       "      <td>NaN</td>\n",
       "    </tr>\n",
       "    <tr>\n",
       "      <th>3</th>\n",
       "      <td>Q. nixoniana</td>\n",
       "      <td>Qnx</td>\n",
       "      <td>2</td>\n",
       "      <td>1</td>\n",
       "      <td>Corralitos</td>\n",
       "      <td>1830</td>\n",
       "      <td>SO</td>\n",
       "      <td>48.0</td>\n",
       "      <td>811.0</td>\n",
       "      <td>1.0</td>\n",
       "      <td>23.0</td>\n",
       "      <td>VS</td>\n",
       "      <td>LM</td>\n",
       "      <td>572733</td>\n",
       "      <td>2168350</td>\n",
       "      <td>27-ene-19</td>\n",
       "      <td>NaN</td>\n",
       "    </tr>\n",
       "    <tr>\n",
       "      <th>4</th>\n",
       "      <td>Q. nixoniana</td>\n",
       "      <td>Qnx</td>\n",
       "      <td>1</td>\n",
       "      <td>1</td>\n",
       "      <td>Puerto Martinez</td>\n",
       "      <td>1386</td>\n",
       "      <td>NaN</td>\n",
       "      <td>NaN</td>\n",
       "      <td>NaN</td>\n",
       "      <td>NaN</td>\n",
       "      <td>NaN</td>\n",
       "      <td>NaN</td>\n",
       "      <td>NaN</td>\n",
       "      <td>577159</td>\n",
       "      <td>2160893</td>\n",
       "      <td>NaN</td>\n",
       "      <td>NaN</td>\n",
       "    </tr>\n",
       "  </tbody>\n",
       "</table>\n",
       "</div>"
      ],
      "text/plain": [
       "        Especie Acronimo  Poblacion  Sitio           Paraje  Altitud  \\\n",
       "0  Q. nixoniana      Qnx          3      1           Almial     2159   \n",
       "1  Q. nixoniana      Qnx          3      2          Mirador     2100   \n",
       "2  Q. nixoniana      Qnx          3      3          Mirador     2069   \n",
       "3  Q. nixoniana      Qnx          2      1       Corralitos     1830   \n",
       "4  Q. nixoniana      Qnx          1      1  Puerto Martinez     1386   \n",
       "\n",
       "  Exposicion  Pendiente_porc  Cantidad_Luz  N_Adultos  N_Juveniles  \\\n",
       "0         NE             5.0         580.0        2.0         59.0   \n",
       "1         SO            80.0        1140.0        1.0          0.0   \n",
       "2         NO            40.0         203.0        4.0          1.0   \n",
       "3         SO            48.0         811.0        1.0         23.0   \n",
       "4        NaN             NaN           NaN        NaN          NaN   \n",
       "\n",
       "  Tipo_vegetación Posicion_topo    Este    Oeste Fecha_caract Observaciones  \n",
       "0              QQ            LA  578690  2163575    28-ene-19           NaN  \n",
       "1              PQ            LM  577007  2165135    28-ene-19           NaN  \n",
       "2              QQ            LM  576986  2165383    28-ene-19           NaN  \n",
       "3              VS            LM  572733  2168350    27-ene-19           NaN  \n",
       "4             NaN           NaN  577159  2160893          NaN           NaN  "
      ]
     },
     "execution_count": 3,
     "metadata": {},
     "output_type": "execute_result"
    }
   ],
   "source": [
    "#vemos lo que contienen los primeros registros de la base\n",
    "base.head()"
   ]
  },
  {
   "cell_type": "code",
   "execution_count": 4,
   "metadata": {},
   "outputs": [
    {
     "data": {
      "text/plain": [
       "Especie             object\n",
       "Acronimo            object\n",
       "Poblacion            int64\n",
       "Sitio                int64\n",
       "Paraje              object\n",
       "Altitud              int64\n",
       "Exposicion          object\n",
       "Pendiente_porc     float64\n",
       "Cantidad_Luz       float64\n",
       "N_Adultos          float64\n",
       "N_Juveniles        float64\n",
       "Tipo_vegetación     object\n",
       "Posicion_topo       object\n",
       "Este                 int64\n",
       "Oeste                int64\n",
       "Fecha_caract        object\n",
       "Observaciones       object\n",
       "dtype: object"
      ]
     },
     "execution_count": 4,
     "metadata": {},
     "output_type": "execute_result"
    }
   ],
   "source": [
    "base.dtypes"
   ]
  },
  {
   "cell_type": "code",
   "execution_count": 65,
   "metadata": {},
   "outputs": [
    {
     "data": {
      "text/plain": [
       "Index(['Especie', 'Acronimo', 'Poblacion', 'Sitio', 'Paraje', 'Altitud',\n",
       "       'Exposicion', 'Pendiente_porc', 'Cantidad_Luz', 'N_Adultos',\n",
       "       'N_Juveniles', 'Tipo_vegetación', 'Posicion_topo', 'Este', 'Oeste',\n",
       "       'Fecha_caract', 'Observaciones'],\n",
       "      dtype='object')"
      ]
     },
     "execution_count": 65,
     "metadata": {},
     "output_type": "execute_result"
    }
   ],
   "source": [
    "#exploramos los nombres de las columnas de la base\n",
    "\n",
    "base.columns"
   ]
  },
  {
   "cell_type": "code",
   "execution_count": 66,
   "metadata": {},
   "outputs": [
    {
     "data": {
      "text/html": [
       "<div>\n",
       "<style scoped>\n",
       "    .dataframe tbody tr th:only-of-type {\n",
       "        vertical-align: middle;\n",
       "    }\n",
       "\n",
       "    .dataframe tbody tr th {\n",
       "        vertical-align: top;\n",
       "    }\n",
       "\n",
       "    .dataframe thead th {\n",
       "        text-align: right;\n",
       "    }\n",
       "</style>\n",
       "<table border=\"1\" class=\"dataframe\">\n",
       "  <thead>\n",
       "    <tr style=\"text-align: right;\">\n",
       "      <th></th>\n",
       "      <th>Poblacion</th>\n",
       "      <th>Sitio</th>\n",
       "      <th>Altitud</th>\n",
       "      <th>Pendiente_porc</th>\n",
       "      <th>Cantidad_Luz</th>\n",
       "      <th>N_Adultos</th>\n",
       "      <th>N_Juveniles</th>\n",
       "      <th>Este</th>\n",
       "      <th>Oeste</th>\n",
       "    </tr>\n",
       "  </thead>\n",
       "  <tbody>\n",
       "    <tr>\n",
       "      <th>count</th>\n",
       "      <td>42.000000</td>\n",
       "      <td>42.000000</td>\n",
       "      <td>42.000000</td>\n",
       "      <td>38.000000</td>\n",
       "      <td>38.000000</td>\n",
       "      <td>38.000000</td>\n",
       "      <td>38.000000</td>\n",
       "      <td>42.000000</td>\n",
       "      <td>4.200000e+01</td>\n",
       "    </tr>\n",
       "    <tr>\n",
       "      <th>mean</th>\n",
       "      <td>2.238095</td>\n",
       "      <td>1.952381</td>\n",
       "      <td>1918.928571</td>\n",
       "      <td>30.289474</td>\n",
       "      <td>559.447368</td>\n",
       "      <td>3.894737</td>\n",
       "      <td>9.315789</td>\n",
       "      <td>576011.261905</td>\n",
       "      <td>2.165811e+06</td>\n",
       "    </tr>\n",
       "    <tr>\n",
       "      <th>std</th>\n",
       "      <td>0.758996</td>\n",
       "      <td>0.824987</td>\n",
       "      <td>240.650784</td>\n",
       "      <td>24.099914</td>\n",
       "      <td>470.035864</td>\n",
       "      <td>4.881235</td>\n",
       "      <td>15.237055</td>\n",
       "      <td>2786.169606</td>\n",
       "      <td>2.859935e+03</td>\n",
       "    </tr>\n",
       "    <tr>\n",
       "      <th>min</th>\n",
       "      <td>1.000000</td>\n",
       "      <td>1.000000</td>\n",
       "      <td>1154.000000</td>\n",
       "      <td>2.000000</td>\n",
       "      <td>10.000000</td>\n",
       "      <td>1.000000</td>\n",
       "      <td>0.000000</td>\n",
       "      <td>569955.000000</td>\n",
       "      <td>2.159429e+06</td>\n",
       "    </tr>\n",
       "    <tr>\n",
       "      <th>25%</th>\n",
       "      <td>2.000000</td>\n",
       "      <td>1.000000</td>\n",
       "      <td>1814.250000</td>\n",
       "      <td>10.750000</td>\n",
       "      <td>141.250000</td>\n",
       "      <td>1.000000</td>\n",
       "      <td>2.000000</td>\n",
       "      <td>573484.500000</td>\n",
       "      <td>2.163511e+06</td>\n",
       "    </tr>\n",
       "    <tr>\n",
       "      <th>50%</th>\n",
       "      <td>2.000000</td>\n",
       "      <td>2.000000</td>\n",
       "      <td>1957.000000</td>\n",
       "      <td>23.500000</td>\n",
       "      <td>381.500000</td>\n",
       "      <td>2.000000</td>\n",
       "      <td>4.000000</td>\n",
       "      <td>576074.000000</td>\n",
       "      <td>2.165784e+06</td>\n",
       "    </tr>\n",
       "    <tr>\n",
       "      <th>75%</th>\n",
       "      <td>3.000000</td>\n",
       "      <td>3.000000</td>\n",
       "      <td>2110.000000</td>\n",
       "      <td>43.750000</td>\n",
       "      <td>1066.000000</td>\n",
       "      <td>4.000000</td>\n",
       "      <td>10.000000</td>\n",
       "      <td>578510.000000</td>\n",
       "      <td>2.167995e+06</td>\n",
       "    </tr>\n",
       "    <tr>\n",
       "      <th>max</th>\n",
       "      <td>3.000000</td>\n",
       "      <td>3.000000</td>\n",
       "      <td>2300.000000</td>\n",
       "      <td>98.000000</td>\n",
       "      <td>1274.000000</td>\n",
       "      <td>20.000000</td>\n",
       "      <td>70.000000</td>\n",
       "      <td>581290.000000</td>\n",
       "      <td>2.171642e+06</td>\n",
       "    </tr>\n",
       "  </tbody>\n",
       "</table>\n",
       "</div>"
      ],
      "text/plain": [
       "       Poblacion      Sitio      Altitud  Pendiente_porc  Cantidad_Luz  \\\n",
       "count  42.000000  42.000000    42.000000       38.000000     38.000000   \n",
       "mean    2.238095   1.952381  1918.928571       30.289474    559.447368   \n",
       "std     0.758996   0.824987   240.650784       24.099914    470.035864   \n",
       "min     1.000000   1.000000  1154.000000        2.000000     10.000000   \n",
       "25%     2.000000   1.000000  1814.250000       10.750000    141.250000   \n",
       "50%     2.000000   2.000000  1957.000000       23.500000    381.500000   \n",
       "75%     3.000000   3.000000  2110.000000       43.750000   1066.000000   \n",
       "max     3.000000   3.000000  2300.000000       98.000000   1274.000000   \n",
       "\n",
       "       N_Adultos  N_Juveniles           Este         Oeste  \n",
       "count  38.000000    38.000000      42.000000  4.200000e+01  \n",
       "mean    3.894737     9.315789  576011.261905  2.165811e+06  \n",
       "std     4.881235    15.237055    2786.169606  2.859935e+03  \n",
       "min     1.000000     0.000000  569955.000000  2.159429e+06  \n",
       "25%     1.000000     2.000000  573484.500000  2.163511e+06  \n",
       "50%     2.000000     4.000000  576074.000000  2.165784e+06  \n",
       "75%     4.000000    10.000000  578510.000000  2.167995e+06  \n",
       "max    20.000000    70.000000  581290.000000  2.171642e+06  "
      ]
     },
     "execution_count": 66,
     "metadata": {},
     "output_type": "execute_result"
    }
   ],
   "source": [
    "#algunos estadísticos generales de la base\n",
    "\n",
    "base.describe()"
   ]
  },
  {
   "cell_type": "code",
   "execution_count": 67,
   "metadata": {},
   "outputs": [
    {
     "data": {
      "text/html": [
       "<div>\n",
       "<style scoped>\n",
       "    .dataframe tbody tr th:only-of-type {\n",
       "        vertical-align: middle;\n",
       "    }\n",
       "\n",
       "    .dataframe tbody tr th {\n",
       "        vertical-align: top;\n",
       "    }\n",
       "\n",
       "    .dataframe thead th {\n",
       "        text-align: right;\n",
       "    }\n",
       "</style>\n",
       "<table border=\"1\" class=\"dataframe\">\n",
       "  <thead>\n",
       "    <tr style=\"text-align: right;\">\n",
       "      <th></th>\n",
       "      <th>Acronimo</th>\n",
       "      <th>Poblacion</th>\n",
       "      <th>Sitio</th>\n",
       "      <th>Paraje</th>\n",
       "      <th>Altitud</th>\n",
       "      <th>Exposicion</th>\n",
       "      <th>Pendiente_porc</th>\n",
       "      <th>Cantidad_Luz</th>\n",
       "      <th>N_Adultos</th>\n",
       "      <th>N_Juveniles</th>\n",
       "      <th>Tipo_vegetación</th>\n",
       "      <th>Posicion_topo</th>\n",
       "      <th>Este</th>\n",
       "      <th>Oeste</th>\n",
       "      <th>Fecha_caract</th>\n",
       "      <th>Observaciones</th>\n",
       "    </tr>\n",
       "    <tr>\n",
       "      <th>Especie</th>\n",
       "      <th></th>\n",
       "      <th></th>\n",
       "      <th></th>\n",
       "      <th></th>\n",
       "      <th></th>\n",
       "      <th></th>\n",
       "      <th></th>\n",
       "      <th></th>\n",
       "      <th></th>\n",
       "      <th></th>\n",
       "      <th></th>\n",
       "      <th></th>\n",
       "      <th></th>\n",
       "      <th></th>\n",
       "      <th></th>\n",
       "      <th></th>\n",
       "    </tr>\n",
       "  </thead>\n",
       "  <tbody>\n",
       "    <tr>\n",
       "      <th>C. mocinnoi</th>\n",
       "      <td>8</td>\n",
       "      <td>8</td>\n",
       "      <td>8</td>\n",
       "      <td>8</td>\n",
       "      <td>8</td>\n",
       "      <td>8</td>\n",
       "      <td>8</td>\n",
       "      <td>8</td>\n",
       "      <td>8</td>\n",
       "      <td>8</td>\n",
       "      <td>8</td>\n",
       "      <td>8</td>\n",
       "      <td>8</td>\n",
       "      <td>8</td>\n",
       "      <td>8</td>\n",
       "      <td>1</td>\n",
       "    </tr>\n",
       "    <tr>\n",
       "      <th>P. hintonii</th>\n",
       "      <td>9</td>\n",
       "      <td>9</td>\n",
       "      <td>9</td>\n",
       "      <td>9</td>\n",
       "      <td>9</td>\n",
       "      <td>8</td>\n",
       "      <td>8</td>\n",
       "      <td>8</td>\n",
       "      <td>8</td>\n",
       "      <td>8</td>\n",
       "      <td>8</td>\n",
       "      <td>8</td>\n",
       "      <td>9</td>\n",
       "      <td>9</td>\n",
       "      <td>8</td>\n",
       "      <td>0</td>\n",
       "    </tr>\n",
       "    <tr>\n",
       "      <th>Q. nixoniana</th>\n",
       "      <td>7</td>\n",
       "      <td>7</td>\n",
       "      <td>7</td>\n",
       "      <td>7</td>\n",
       "      <td>7</td>\n",
       "      <td>4</td>\n",
       "      <td>4</td>\n",
       "      <td>4</td>\n",
       "      <td>4</td>\n",
       "      <td>4</td>\n",
       "      <td>4</td>\n",
       "      <td>4</td>\n",
       "      <td>7</td>\n",
       "      <td>7</td>\n",
       "      <td>4</td>\n",
       "      <td>0</td>\n",
       "    </tr>\n",
       "    <tr>\n",
       "      <th>Q. praineana</th>\n",
       "      <td>6</td>\n",
       "      <td>6</td>\n",
       "      <td>6</td>\n",
       "      <td>6</td>\n",
       "      <td>6</td>\n",
       "      <td>6</td>\n",
       "      <td>6</td>\n",
       "      <td>6</td>\n",
       "      <td>6</td>\n",
       "      <td>6</td>\n",
       "      <td>6</td>\n",
       "      <td>6</td>\n",
       "      <td>6</td>\n",
       "      <td>6</td>\n",
       "      <td>6</td>\n",
       "      <td>1</td>\n",
       "    </tr>\n",
       "    <tr>\n",
       "      <th>Q. xalapensis</th>\n",
       "      <td>6</td>\n",
       "      <td>6</td>\n",
       "      <td>6</td>\n",
       "      <td>6</td>\n",
       "      <td>6</td>\n",
       "      <td>6</td>\n",
       "      <td>6</td>\n",
       "      <td>6</td>\n",
       "      <td>6</td>\n",
       "      <td>6</td>\n",
       "      <td>6</td>\n",
       "      <td>6</td>\n",
       "      <td>6</td>\n",
       "      <td>6</td>\n",
       "      <td>6</td>\n",
       "      <td>1</td>\n",
       "    </tr>\n",
       "    <tr>\n",
       "      <th>S. ramirezii</th>\n",
       "      <td>6</td>\n",
       "      <td>6</td>\n",
       "      <td>6</td>\n",
       "      <td>6</td>\n",
       "      <td>6</td>\n",
       "      <td>6</td>\n",
       "      <td>6</td>\n",
       "      <td>6</td>\n",
       "      <td>6</td>\n",
       "      <td>6</td>\n",
       "      <td>6</td>\n",
       "      <td>6</td>\n",
       "      <td>6</td>\n",
       "      <td>6</td>\n",
       "      <td>6</td>\n",
       "      <td>0</td>\n",
       "    </tr>\n",
       "  </tbody>\n",
       "</table>\n",
       "</div>"
      ],
      "text/plain": [
       "               Acronimo  Poblacion  Sitio  Paraje  Altitud  Exposicion  \\\n",
       "Especie                                                                  \n",
       "C. mocinnoi           8          8      8       8        8           8   \n",
       "P. hintonii           9          9      9       9        9           8   \n",
       "Q. nixoniana          7          7      7       7        7           4   \n",
       "Q. praineana          6          6      6       6        6           6   \n",
       "Q. xalapensis         6          6      6       6        6           6   \n",
       "S. ramirezii          6          6      6       6        6           6   \n",
       "\n",
       "               Pendiente_porc  Cantidad_Luz  N_Adultos  N_Juveniles  \\\n",
       "Especie                                                               \n",
       "C. mocinnoi                 8             8          8            8   \n",
       "P. hintonii                 8             8          8            8   \n",
       "Q. nixoniana                4             4          4            4   \n",
       "Q. praineana                6             6          6            6   \n",
       "Q. xalapensis               6             6          6            6   \n",
       "S. ramirezii                6             6          6            6   \n",
       "\n",
       "               Tipo_vegetación  Posicion_topo  Este  Oeste  Fecha_caract  \\\n",
       "Especie                                                                    \n",
       "C. mocinnoi                  8              8     8      8             8   \n",
       "P. hintonii                  8              8     9      9             8   \n",
       "Q. nixoniana                 4              4     7      7             4   \n",
       "Q. praineana                 6              6     6      6             6   \n",
       "Q. xalapensis                6              6     6      6             6   \n",
       "S. ramirezii                 6              6     6      6             6   \n",
       "\n",
       "               Observaciones  \n",
       "Especie                       \n",
       "C. mocinnoi                1  \n",
       "P. hintonii                0  \n",
       "Q. nixoniana               0  \n",
       "Q. praineana               1  \n",
       "Q. xalapensis              1  \n",
       "S. ramirezii               0  "
      ]
     },
     "execution_count": 67,
     "metadata": {},
     "output_type": "execute_result"
    }
   ],
   "source": [
    "#cuántos registros hay por especie\n",
    "\n",
    "base.groupby([\"Especie\"]).count()"
   ]
  },
  {
   "cell_type": "code",
   "execution_count": 8,
   "metadata": {},
   "outputs": [
    {
     "data": {
      "text/html": [
       "<div>\n",
       "<style scoped>\n",
       "    .dataframe tbody tr th:only-of-type {\n",
       "        vertical-align: middle;\n",
       "    }\n",
       "\n",
       "    .dataframe tbody tr th {\n",
       "        vertical-align: top;\n",
       "    }\n",
       "\n",
       "    .dataframe thead th {\n",
       "        text-align: right;\n",
       "    }\n",
       "</style>\n",
       "<table border=\"1\" class=\"dataframe\">\n",
       "  <thead>\n",
       "    <tr style=\"text-align: right;\">\n",
       "      <th></th>\n",
       "      <th>Acronimo</th>\n",
       "      <th>Poblacion</th>\n",
       "      <th>Sitio</th>\n",
       "      <th>Paraje</th>\n",
       "      <th>Altitud</th>\n",
       "      <th>Exposicion</th>\n",
       "      <th>Pendiente_porc</th>\n",
       "      <th>Cantidad_Luz</th>\n",
       "      <th>N_Adultos</th>\n",
       "      <th>N_Juveniles</th>\n",
       "      <th>Tipo_vegetación</th>\n",
       "      <th>Posicion_topo</th>\n",
       "      <th>Este</th>\n",
       "      <th>Oeste</th>\n",
       "      <th>Fecha_caract</th>\n",
       "      <th>Observaciones</th>\n",
       "    </tr>\n",
       "    <tr>\n",
       "      <th>Especie</th>\n",
       "      <th></th>\n",
       "      <th></th>\n",
       "      <th></th>\n",
       "      <th></th>\n",
       "      <th></th>\n",
       "      <th></th>\n",
       "      <th></th>\n",
       "      <th></th>\n",
       "      <th></th>\n",
       "      <th></th>\n",
       "      <th></th>\n",
       "      <th></th>\n",
       "      <th></th>\n",
       "      <th></th>\n",
       "      <th></th>\n",
       "      <th></th>\n",
       "    </tr>\n",
       "  </thead>\n",
       "  <tbody>\n",
       "    <tr>\n",
       "      <th>C. mocinnoi</th>\n",
       "      <td>8</td>\n",
       "      <td>8</td>\n",
       "      <td>8</td>\n",
       "      <td>8</td>\n",
       "      <td>8</td>\n",
       "      <td>8</td>\n",
       "      <td>8</td>\n",
       "      <td>8</td>\n",
       "      <td>8</td>\n",
       "      <td>8</td>\n",
       "      <td>8</td>\n",
       "      <td>8</td>\n",
       "      <td>8</td>\n",
       "      <td>8</td>\n",
       "      <td>8</td>\n",
       "      <td>1</td>\n",
       "    </tr>\n",
       "    <tr>\n",
       "      <th>P. hintonii</th>\n",
       "      <td>9</td>\n",
       "      <td>9</td>\n",
       "      <td>9</td>\n",
       "      <td>9</td>\n",
       "      <td>9</td>\n",
       "      <td>8</td>\n",
       "      <td>8</td>\n",
       "      <td>8</td>\n",
       "      <td>8</td>\n",
       "      <td>8</td>\n",
       "      <td>8</td>\n",
       "      <td>8</td>\n",
       "      <td>9</td>\n",
       "      <td>9</td>\n",
       "      <td>8</td>\n",
       "      <td>0</td>\n",
       "    </tr>\n",
       "    <tr>\n",
       "      <th>Q. praineana</th>\n",
       "      <td>6</td>\n",
       "      <td>6</td>\n",
       "      <td>6</td>\n",
       "      <td>6</td>\n",
       "      <td>6</td>\n",
       "      <td>6</td>\n",
       "      <td>6</td>\n",
       "      <td>6</td>\n",
       "      <td>6</td>\n",
       "      <td>6</td>\n",
       "      <td>6</td>\n",
       "      <td>6</td>\n",
       "      <td>6</td>\n",
       "      <td>6</td>\n",
       "      <td>6</td>\n",
       "      <td>1</td>\n",
       "    </tr>\n",
       "    <tr>\n",
       "      <th>Q. xalapensis</th>\n",
       "      <td>6</td>\n",
       "      <td>6</td>\n",
       "      <td>6</td>\n",
       "      <td>6</td>\n",
       "      <td>6</td>\n",
       "      <td>6</td>\n",
       "      <td>6</td>\n",
       "      <td>6</td>\n",
       "      <td>6</td>\n",
       "      <td>6</td>\n",
       "      <td>6</td>\n",
       "      <td>6</td>\n",
       "      <td>6</td>\n",
       "      <td>6</td>\n",
       "      <td>6</td>\n",
       "      <td>1</td>\n",
       "    </tr>\n",
       "    <tr>\n",
       "      <th>S. ramirezii</th>\n",
       "      <td>6</td>\n",
       "      <td>6</td>\n",
       "      <td>6</td>\n",
       "      <td>6</td>\n",
       "      <td>6</td>\n",
       "      <td>6</td>\n",
       "      <td>6</td>\n",
       "      <td>6</td>\n",
       "      <td>6</td>\n",
       "      <td>6</td>\n",
       "      <td>6</td>\n",
       "      <td>6</td>\n",
       "      <td>6</td>\n",
       "      <td>6</td>\n",
       "      <td>6</td>\n",
       "      <td>0</td>\n",
       "    </tr>\n",
       "    <tr>\n",
       "      <th>Q. nixoniana</th>\n",
       "      <td>7</td>\n",
       "      <td>7</td>\n",
       "      <td>7</td>\n",
       "      <td>7</td>\n",
       "      <td>7</td>\n",
       "      <td>4</td>\n",
       "      <td>4</td>\n",
       "      <td>4</td>\n",
       "      <td>4</td>\n",
       "      <td>4</td>\n",
       "      <td>4</td>\n",
       "      <td>4</td>\n",
       "      <td>7</td>\n",
       "      <td>7</td>\n",
       "      <td>4</td>\n",
       "      <td>0</td>\n",
       "    </tr>\n",
       "  </tbody>\n",
       "</table>\n",
       "</div>"
      ],
      "text/plain": [
       "               Acronimo  Poblacion  Sitio  Paraje  Altitud  Exposicion  \\\n",
       "Especie                                                                  \n",
       "C. mocinnoi           8          8      8       8        8           8   \n",
       "P. hintonii           9          9      9       9        9           8   \n",
       "Q. praineana          6          6      6       6        6           6   \n",
       "Q. xalapensis         6          6      6       6        6           6   \n",
       "S. ramirezii          6          6      6       6        6           6   \n",
       "Q. nixoniana          7          7      7       7        7           4   \n",
       "\n",
       "               Pendiente_porc  Cantidad_Luz  N_Adultos  N_Juveniles  \\\n",
       "Especie                                                               \n",
       "C. mocinnoi                 8             8          8            8   \n",
       "P. hintonii                 8             8          8            8   \n",
       "Q. praineana                6             6          6            6   \n",
       "Q. xalapensis               6             6          6            6   \n",
       "S. ramirezii                6             6          6            6   \n",
       "Q. nixoniana                4             4          4            4   \n",
       "\n",
       "               Tipo_vegetación  Posicion_topo  Este  Oeste  Fecha_caract  \\\n",
       "Especie                                                                    \n",
       "C. mocinnoi                  8              8     8      8             8   \n",
       "P. hintonii                  8              8     9      9             8   \n",
       "Q. praineana                 6              6     6      6             6   \n",
       "Q. xalapensis                6              6     6      6             6   \n",
       "S. ramirezii                 6              6     6      6             6   \n",
       "Q. nixoniana                 4              4     7      7             4   \n",
       "\n",
       "               Observaciones  \n",
       "Especie                       \n",
       "C. mocinnoi                1  \n",
       "P. hintonii                0  \n",
       "Q. praineana               1  \n",
       "Q. xalapensis              1  \n",
       "S. ramirezii               0  \n",
       "Q. nixoniana               0  "
      ]
     },
     "execution_count": 8,
     "metadata": {},
     "output_type": "execute_result"
    }
   ],
   "source": [
    "#¿qué especie recibe la mayor cantidad de luz?\n",
    "base.groupby([\"Especie\"]).count().sort_values(\"Cantidad_Luz\", ascending= False)\n"
   ]
  },
  {
   "cell_type": "code",
   "execution_count": 9,
   "metadata": {},
   "outputs": [
    {
     "data": {
      "text/plain": [
       "{'C. mocinnoi',\n",
       " 'P. hintonii',\n",
       " 'Q. nixoniana',\n",
       " 'Q. praineana',\n",
       " 'Q. xalapensis',\n",
       " 'S. ramirezii'}"
      ]
     },
     "execution_count": 9,
     "metadata": {},
     "output_type": "execute_result"
    }
   ],
   "source": [
    "#estas son las especies muestreadas de la base de datos\n",
    "set(base.Especie)"
   ]
  },
  {
   "cell_type": "code",
   "execution_count": 45,
   "metadata": {},
   "outputs": [
    {
     "data": {
      "text/html": [
       "<div>\n",
       "<style scoped>\n",
       "    .dataframe tbody tr th:only-of-type {\n",
       "        vertical-align: middle;\n",
       "    }\n",
       "\n",
       "    .dataframe tbody tr th {\n",
       "        vertical-align: top;\n",
       "    }\n",
       "\n",
       "    .dataframe thead th {\n",
       "        text-align: right;\n",
       "    }\n",
       "</style>\n",
       "<table border=\"1\" class=\"dataframe\">\n",
       "  <thead>\n",
       "    <tr style=\"text-align: right;\">\n",
       "      <th></th>\n",
       "      <th>Poblacion</th>\n",
       "      <th>Sitio</th>\n",
       "      <th>Altitud</th>\n",
       "      <th>Pendiente_porc</th>\n",
       "      <th>Cantidad_Luz</th>\n",
       "      <th>N_Adultos</th>\n",
       "      <th>N_Juveniles</th>\n",
       "      <th>Este</th>\n",
       "      <th>Oeste</th>\n",
       "    </tr>\n",
       "  </thead>\n",
       "  <tbody>\n",
       "    <tr>\n",
       "      <th>Poblacion</th>\n",
       "      <td>1.000000</td>\n",
       "      <td>0.057501</td>\n",
       "      <td>0.862186</td>\n",
       "      <td>-0.121429</td>\n",
       "      <td>0.033897</td>\n",
       "      <td>-0.283349</td>\n",
       "      <td>0.140862</td>\n",
       "      <td>0.512782</td>\n",
       "      <td>-0.337921</td>\n",
       "    </tr>\n",
       "    <tr>\n",
       "      <th>Sitio</th>\n",
       "      <td>0.057501</td>\n",
       "      <td>1.000000</td>\n",
       "      <td>-0.008249</td>\n",
       "      <td>0.160104</td>\n",
       "      <td>-0.094383</td>\n",
       "      <td>0.053207</td>\n",
       "      <td>-0.333966</td>\n",
       "      <td>0.029282</td>\n",
       "      <td>-0.046425</td>\n",
       "    </tr>\n",
       "    <tr>\n",
       "      <th>Altitud</th>\n",
       "      <td>0.862186</td>\n",
       "      <td>-0.008249</td>\n",
       "      <td>1.000000</td>\n",
       "      <td>-0.160836</td>\n",
       "      <td>0.025537</td>\n",
       "      <td>-0.119404</td>\n",
       "      <td>0.155102</td>\n",
       "      <td>0.386857</td>\n",
       "      <td>-0.091694</td>\n",
       "    </tr>\n",
       "    <tr>\n",
       "      <th>Pendiente_porc</th>\n",
       "      <td>-0.121429</td>\n",
       "      <td>0.160104</td>\n",
       "      <td>-0.160836</td>\n",
       "      <td>1.000000</td>\n",
       "      <td>-0.252153</td>\n",
       "      <td>-0.008694</td>\n",
       "      <td>-0.182344</td>\n",
       "      <td>-0.067906</td>\n",
       "      <td>0.186243</td>\n",
       "    </tr>\n",
       "    <tr>\n",
       "      <th>Cantidad_Luz</th>\n",
       "      <td>0.033897</td>\n",
       "      <td>-0.094383</td>\n",
       "      <td>0.025537</td>\n",
       "      <td>-0.252153</td>\n",
       "      <td>1.000000</td>\n",
       "      <td>-0.344844</td>\n",
       "      <td>0.003165</td>\n",
       "      <td>-0.073265</td>\n",
       "      <td>-0.053168</td>\n",
       "    </tr>\n",
       "    <tr>\n",
       "      <th>N_Adultos</th>\n",
       "      <td>-0.283349</td>\n",
       "      <td>0.053207</td>\n",
       "      <td>-0.119404</td>\n",
       "      <td>-0.008694</td>\n",
       "      <td>-0.344844</td>\n",
       "      <td>1.000000</td>\n",
       "      <td>0.193417</td>\n",
       "      <td>-0.331632</td>\n",
       "      <td>0.250823</td>\n",
       "    </tr>\n",
       "    <tr>\n",
       "      <th>N_Juveniles</th>\n",
       "      <td>0.140862</td>\n",
       "      <td>-0.333966</td>\n",
       "      <td>0.155102</td>\n",
       "      <td>-0.182344</td>\n",
       "      <td>0.003165</td>\n",
       "      <td>0.193417</td>\n",
       "      <td>1.000000</td>\n",
       "      <td>0.069690</td>\n",
       "      <td>-0.074825</td>\n",
       "    </tr>\n",
       "    <tr>\n",
       "      <th>Este</th>\n",
       "      <td>0.512782</td>\n",
       "      <td>0.029282</td>\n",
       "      <td>0.386857</td>\n",
       "      <td>-0.067906</td>\n",
       "      <td>-0.073265</td>\n",
       "      <td>-0.331632</td>\n",
       "      <td>0.069690</td>\n",
       "      <td>1.000000</td>\n",
       "      <td>-0.852610</td>\n",
       "    </tr>\n",
       "    <tr>\n",
       "      <th>Oeste</th>\n",
       "      <td>-0.337921</td>\n",
       "      <td>-0.046425</td>\n",
       "      <td>-0.091694</td>\n",
       "      <td>0.186243</td>\n",
       "      <td>-0.053168</td>\n",
       "      <td>0.250823</td>\n",
       "      <td>-0.074825</td>\n",
       "      <td>-0.852610</td>\n",
       "      <td>1.000000</td>\n",
       "    </tr>\n",
       "  </tbody>\n",
       "</table>\n",
       "</div>"
      ],
      "text/plain": [
       "                Poblacion     Sitio   Altitud  Pendiente_porc  Cantidad_Luz  \\\n",
       "Poblacion        1.000000  0.057501  0.862186       -0.121429      0.033897   \n",
       "Sitio            0.057501  1.000000 -0.008249        0.160104     -0.094383   \n",
       "Altitud          0.862186 -0.008249  1.000000       -0.160836      0.025537   \n",
       "Pendiente_porc  -0.121429  0.160104 -0.160836        1.000000     -0.252153   \n",
       "Cantidad_Luz     0.033897 -0.094383  0.025537       -0.252153      1.000000   \n",
       "N_Adultos       -0.283349  0.053207 -0.119404       -0.008694     -0.344844   \n",
       "N_Juveniles      0.140862 -0.333966  0.155102       -0.182344      0.003165   \n",
       "Este             0.512782  0.029282  0.386857       -0.067906     -0.073265   \n",
       "Oeste           -0.337921 -0.046425 -0.091694        0.186243     -0.053168   \n",
       "\n",
       "                N_Adultos  N_Juveniles      Este     Oeste  \n",
       "Poblacion       -0.283349     0.140862  0.512782 -0.337921  \n",
       "Sitio            0.053207    -0.333966  0.029282 -0.046425  \n",
       "Altitud         -0.119404     0.155102  0.386857 -0.091694  \n",
       "Pendiente_porc  -0.008694    -0.182344 -0.067906  0.186243  \n",
       "Cantidad_Luz    -0.344844     0.003165 -0.073265 -0.053168  \n",
       "N_Adultos        1.000000     0.193417 -0.331632  0.250823  \n",
       "N_Juveniles      0.193417     1.000000  0.069690 -0.074825  \n",
       "Este            -0.331632     0.069690  1.000000 -0.852610  \n",
       "Oeste            0.250823    -0.074825 -0.852610  1.000000  "
      ]
     },
     "execution_count": 45,
     "metadata": {},
     "output_type": "execute_result"
    }
   ],
   "source": [
    "#veremos si existe alguna correlación entre las columnas\n",
    "base.corr()\n",
    "\n",
    "#vemos que la correlación es baja en la mayoría de los casos"
   ]
  },
  {
   "cell_type": "code",
   "execution_count": 46,
   "metadata": {},
   "outputs": [],
   "source": [
    "#asignamos colores a cada especie de la base para hacer gráficas más adelante\n",
    "\n",
    "color = {\"C. mocinnoi\": \"Red\", \"P. hintonii\": \"Yellow\", \"Q. nixoniana\": \"Blue\", \"Q. praineana\": \"Green\", \"Q. xalapensis\": \"Black\", \"S. ramirezii\": \"Aqua\"}\n",
    "especie_color = base.Especie.map(color)"
   ]
  },
  {
   "cell_type": "markdown",
   "metadata": {},
   "source": [
    "# Juveniles\n",
    "Haremos algunas tablas que muestren posibles correlaciones entre factores ambientales y la cantidad de juveniles"
   ]
  },
  {
   "cell_type": "code",
   "execution_count": 47,
   "metadata": {},
   "outputs": [
    {
     "data": {
      "image/png": "[encoded data removed]",
      "text/plain": [
       "<Figure size 432x288 with 1 Axes>"
      ]
     },
     "metadata": {
      "needs_background": "light"
     },
     "output_type": "display_data"
    }
   ],
   "source": [
    "#hacemos un gráfico de dispersión de las especies que en el eje x tenga la cantidad de luz que recibe cada especie\n",
    "#y en el eje \"y\" el número de juveniles\n",
    "fig, ax = plt.subplots()\n",
    "ax.scatter(base.Cantidad_Luz, base.N_Juveniles, color = especie_color)\n",
    "plt.show()"
   ]
  },
  {
   "cell_type": "code",
   "execution_count": 68,
   "metadata": {},
   "outputs": [
    {
     "data": {
      "image/png": "[encoded data removed]",
      "text/plain": [
       "<Figure size 432x288 with 1 Axes>"
      ]
     },
     "metadata": {
      "needs_background": "light"
     },
     "output_type": "display_data"
    }
   ],
   "source": [
    "#cruzamos la variable cantidad de luz vs cantidad de juveniles, pero ahora agregamos la leyenda\n",
    "fig, ax = plt.subplots()\n",
    "for Especie in set (base.Especie):\n",
    "    ax.scatter(\n",
    "        base.Cantidad_Luz[base.Especie == Especie],\n",
    "        base.N_Juveniles[base.Especie == Especie], \n",
    "        s= 30,\n",
    "        c= color[Especie],\n",
    "        label= Especie)\n",
    "plt.legend()\n",
    "plt.xlabel(\"Luz\")\n",
    "plt.ylabel(\"juveniles\")\n",
    "plt.title(\"Luz vs Juveniles\")\n",
    "plt.show()"
   ]
  },
  {
   "cell_type": "code",
   "execution_count": 49,
   "metadata": {},
   "outputs": [
    {
     "data": {
      "image/png": "[encoded data removed]",
      "text/plain": [
       "<Figure size 432x288 with 1 Axes>"
      ]
     },
     "metadata": {
      "needs_background": "light"
     },
     "output_type": "display_data"
    }
   ],
   "source": [
    "#ahora cruzamos la variable altitud vs cantidad de juveniles\n",
    "fig, ax = plt.subplots()\n",
    "for Especie in set (base.Especie):\n",
    "    ax.scatter(\n",
    "        base.Altitud[base.Especie == Especie],\n",
    "        base.N_Juveniles[base.Especie == Especie], \n",
    "        s= 30,\n",
    "        c= color[Especie],\n",
    "        label= Especie)\n",
    "plt.legend()\n",
    "plt.xlabel(\"altitud\")\n",
    "plt.ylabel(\"juveniles\")\n",
    "plt.title(\"Altitud % vs Juveniles\")\n",
    "plt.show()\n",
    "\n",
    "\n",
    "#Vemos que la S. Ramirezzi es la que más juveniles tienen alturas elevadas, presentando un pico en los 2100 metros y es la única\n",
    "#especie presente hasta los 2300 m, empezando aparición a los 1950 aprox.\n",
    "\n",
    "# P. hintonni juveniles distribuidos de manera más o menos uniforme entre los 1700 hasta los 2150\n",
    "#La C. Mocinnoi por el contrario se encuentra a la más baja altura, a unos 1650 aprox. y hasta los 2150 pero con pocos juveniles.\n",
    "# La Q. nixoniana tiene notorios juveniles entre los 1800 y hasta los casi 2200\n",
    "#La Q praineana poco distribuida, únicamente presente entre los 1800 hasta los 2000\n",
    "#Igualmente la Q. xalapensis desde los 1800 hasta los 2150"
   ]
  },
  {
   "cell_type": "code",
   "execution_count": 50,
   "metadata": {},
   "outputs": [
    {
     "data": {
      "image/png": "[encoded data removed]",
      "text/plain": [
       "<Figure size 432x288 with 1 Axes>"
      ]
     },
     "metadata": {
      "needs_background": "light"
     },
     "output_type": "display_data"
    }
   ],
   "source": [
    "#ahora cruzamos la variable pendiente vs cantidad de luz\n",
    "fig, ax = plt.subplots()\n",
    "for Especie in set (base.Especie):\n",
    "    ax.scatter(\n",
    "        base.Pendiente_porc[base.Especie == Especie],\n",
    "        base.Cantidad_Luz[base.Especie == Especie], \n",
    "        s= 30,\n",
    "        c= color[Especie],\n",
    "        label= Especie)\n",
    "plt.legend()\n",
    "plt.xlabel(\"pendiente\")\n",
    "plt.ylabel(\"cantidad de luz\")\n",
    "plt.title(\"Pendiente vs. Cantidad de Luz\")\n",
    "plt.show()"
   ]
  },
  {
   "cell_type": "code",
   "execution_count": 51,
   "metadata": {},
   "outputs": [
    {
     "data": {
      "image/png": "[encoded data removed]",
      "text/plain": [
       "<Figure size 432x288 with 1 Axes>"
      ]
     },
     "metadata": {
      "needs_background": "light"
     },
     "output_type": "display_data"
    }
   ],
   "source": [
    "#ahora cruzamos la variable pendiente vs juveniles\n",
    "fig, ax = plt.subplots()\n",
    "for Especie in set (base.Especie):\n",
    "    ax.scatter(\n",
    "        base.Pendiente_porc[base.Especie == Especie],\n",
    "        base.N_Juveniles[base.Especie == Especie], \n",
    "        s= 30,\n",
    "        c= color[Especie],\n",
    "        label= Especie)\n",
    "plt.legend()\n",
    "plt.xlabel(\"pendiente\")\n",
    "plt.ylabel(\"juveniles\")\n",
    "plt.title(\"Pendiente vs. Juveniles\")\n",
    "plt.show()\n",
    "\n",
    "#En relación con la pendiente vemos una tendencia a la aglomeración de todas las especies con juveniles entre las pendientes\n",
    "# desde el 5% hasta el 50% aproximadamente\n",
    "#Resalta la Q xalapensis presente en pendientes muy abruptas"
   ]
  },
  {
   "cell_type": "code",
   "execution_count": 52,
   "metadata": {},
   "outputs": [
    {
     "data": {
      "text/plain": [
       "70.0"
      ]
     },
     "execution_count": 52,
     "metadata": {},
     "output_type": "execute_result"
    }
   ],
   "source": [
    "#máxima cantidad de juveniles\n",
    "\n",
    "base[\"N_Juveniles\"].max()"
   ]
  },
  {
   "cell_type": "code",
   "execution_count": 53,
   "metadata": {},
   "outputs": [
    {
     "data": {
      "text/plain": [
       "1957.0"
      ]
     },
     "execution_count": 53,
     "metadata": {},
     "output_type": "execute_result"
    }
   ],
   "source": [
    "#mediana de altitud entre todas las especies muestreadas\n",
    "\n",
    "base[\"Altitud\"].median()"
   ]
  },
  {
   "cell_type": "code",
   "execution_count": 54,
   "metadata": {},
   "outputs": [
    {
     "data": {
      "text/plain": [
       "559.4473684210526"
      ]
     },
     "execution_count": 54,
     "metadata": {},
     "output_type": "execute_result"
    }
   ],
   "source": [
    "#promedio de cantidad de lux recibida por las especies muestreadas\n",
    "\n",
    "base[\"Cantidad_Luz\"].mean()"
   ]
  },
  {
   "cell_type": "code",
   "execution_count": 55,
   "metadata": {},
   "outputs": [
    {
     "data": {
      "image/png": "[encoded data removed]",
      "text/plain": [
       "<Figure size 432x288 with 1 Axes>"
      ]
     },
     "metadata": {
      "needs_background": "light"
     },
     "output_type": "display_data"
    }
   ],
   "source": [
    "#volvemos a traer nuestro gráfico de dispersión de luz vs juveniles\n",
    "fig, ax = plt.subplots()\n",
    "for Especie in set (base.Especie):\n",
    "    ax.scatter(\n",
    "        base.Cantidad_Luz[base.Especie == Especie],\n",
    "        base.N_Juveniles[base.Especie == Especie], \n",
    "        s= 30,\n",
    "        c= color[Especie],\n",
    "        label= Especie)\n",
    "plt.legend()\n",
    "plt.ylabel(\"Núm. Juveniles\")\n",
    "plt.xlabel(\"Cantidad de Luz\")\n",
    "plt.title(\"Cantidad de Luz vs Núm. de Juveniles\")\n",
    "plt.show()"
   ]
  },
  {
   "cell_type": "code",
   "execution_count": 56,
   "metadata": {},
   "outputs": [
    {
     "data": {
      "text/plain": [
       "220933.71337126594"
      ]
     },
     "execution_count": 56,
     "metadata": {},
     "output_type": "execute_result"
    }
   ],
   "source": [
    "#ahora calculamos la varianza de la cantidad de luz\n",
    "\n",
    "base[\"Cantidad_Luz\"].var()"
   ]
  },
  {
   "cell_type": "markdown",
   "metadata": {},
   "source": [
    "# Adultos"
   ]
  },
  {
   "cell_type": "code",
   "execution_count": 58,
   "metadata": {},
   "outputs": [
    {
     "data": {
      "text/plain": [
       "20.0"
      ]
     },
     "execution_count": 58,
     "metadata": {},
     "output_type": "execute_result"
    }
   ],
   "source": [
    "#máxima cantidad de adultos\n",
    "\n",
    "base[\"N_Adultos\"].max()"
   ]
  },
  {
   "cell_type": "code",
   "execution_count": 59,
   "metadata": {},
   "outputs": [
    {
     "data": {
      "image/png": "[encoded data removed]",
      "text/plain": [
       "<Figure size 432x288 with 1 Axes>"
      ]
     },
     "metadata": {
      "needs_background": "light"
     },
     "output_type": "display_data"
    }
   ],
   "source": [
    "#cruzamos la variable cantidad de luz vs cantidad de adultos\n",
    "fig, ax = plt.subplots()\n",
    "for Especie in set (base.Especie):\n",
    "    ax.scatter(\n",
    "        base.Cantidad_Luz[base.Especie == Especie],\n",
    "        base.N_Adultos[base.Especie == Especie], \n",
    "        s= 30,\n",
    "        c= color[Especie],\n",
    "        label= Especie)\n",
    "plt.legend()\n",
    "plt.xlabel(\"Luz\")\n",
    "plt.ylabel(\"Adultos\")\n",
    "plt.title(\"Luz vs Adultos\")\n",
    "plt.show()\n",
    "\n",
    "#La S ramirezii destaca con gran cantidad de adultos con pocas cantidades de luz, aunque también presenta adultos con grandes cantidades de luz\n",
    "# Se ve una primera aglomeración de adultos con bajas cantidades de luz y una segunda aglomeración con altas cantidades de luz\n",
    "#en la parte central "
   ]
  },
  {
   "cell_type": "code",
   "execution_count": 60,
   "metadata": {},
   "outputs": [
    {
     "data": {
      "image/png": "[encoded data removed]",
      "text/plain": [
       "<Figure size 432x288 with 1 Axes>"
      ]
     },
     "metadata": {
      "needs_background": "light"
     },
     "output_type": "display_data"
    }
   ],
   "source": [
    "#cruzamos la variable pendiente vs cantidad de adultos\n",
    "fig, ax = plt.subplots()\n",
    "for Especie in set (base.Especie):\n",
    "    ax.scatter(\n",
    "        base.Pendiente_porc[base.Especie == Especie],\n",
    "        base.N_Adultos[base.Especie == Especie], \n",
    "        s= 30,\n",
    "        c= color[Especie],\n",
    "        label= Especie)\n",
    "plt.legend()\n",
    "plt.xlabel(\"Pendiente\")\n",
    "plt.ylabel(\"Adultos\")\n",
    "plt.title(\"Luz vs Adultos\")\n",
    "plt.show()"
   ]
  },
  {
   "cell_type": "code",
   "execution_count": 61,
   "metadata": {},
   "outputs": [
    {
     "data": {
      "image/png": "[encoded data removed]",
      "text/plain": [
       "<Figure size 432x288 with 1 Axes>"
      ]
     },
     "metadata": {
      "needs_background": "light"
     },
     "output_type": "display_data"
    }
   ],
   "source": [
    "#cruzamos la variable altitud vs cantidad de adultos\n",
    "fig, ax = plt.subplots()\n",
    "for Especie in set (base.Especie):\n",
    "    ax.scatter(\n",
    "        base.Altitud[base.Especie == Especie],\n",
    "        base.N_Adultos[base.Especie == Especie], \n",
    "        s= 30,\n",
    "        c= color[Especie],\n",
    "        label= Especie)\n",
    "plt.legend()\n",
    "plt.xlabel(\"Altitud\")\n",
    "plt.ylabel(\"Adultos\")\n",
    "plt.title(\"Luz vs Adultos\")\n",
    "plt.show()"
   ]
  },
  {
   "cell_type": "code",
   "execution_count": null,
   "metadata": {},
   "outputs": [],
   "source": []
  },
  {
   "cell_type": "code",
   "execution_count": null,
   "metadata": {},
   "outputs": [],
   "source": []
  },
  {
   "cell_type": "code",
   "execution_count": null,
   "metadata": {},
   "outputs": [],
   "source": []
  }
 ],
 "metadata": {
  "kernelspec": {
   "display_name": "Python 3",
   "language": "python",
   "name": "python3"
  },
  "language_info": {
   "codemirror_mode": {
    "name": "ipython",
    "version": 3
   },
   "file_extension": ".py",
   "mimetype": "text/x-python",
   "name": "python",
   "nbconvert_exporter": "python",
   "pygments_lexer": "ipython3",
   "version": "3.7.3"
  }
 },
 "nbformat": 4,
 "nbformat_minor": 2
}
