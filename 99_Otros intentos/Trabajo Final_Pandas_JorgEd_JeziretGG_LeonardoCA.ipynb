{
 "cells": [
  {
   "cell_type": "code",
   "execution_count": 13,
   "metadata": {},
   "outputs": [],
   "source": [
    "%matplotlib inline\n",
    "from pylab import *\n",
    "import csv\n",
    "import pandas as pd"
   ]
  },
  {
   "cell_type": "markdown",
   "metadata": {},
   "source": [
    "## La base de datos utilizada para esta práctica alude a un estudio sobre depredación de semillas en la Reserva de la Biosfera Sierra de Manantlán. Contiene la descripción para tres sitios (gradientes altitudinales) dentro de la RBSM."
   ]
  },
  {
   "cell_type": "code",
   "execution_count": 24,
   "metadata": {
    "scrolled": true
   },
   "outputs": [
    {
     "data": {
      "text/html": [
       "<div>\n",
       "<style scoped>\n",
       "    .dataframe tbody tr th:only-of-type {\n",
       "        vertical-align: middle;\n",
       "    }\n",
       "\n",
       "    .dataframe tbody tr th {\n",
       "        vertical-align: top;\n",
       "    }\n",
       "\n",
       "    .dataframe thead th {\n",
       "        text-align: right;\n",
       "    }\n",
       "</style>\n",
       "<table border=\"1\" class=\"dataframe\">\n",
       "  <thead>\n",
       "    <tr style=\"text-align: right;\">\n",
       "      <th></th>\n",
       "      <th>Especie</th>\n",
       "      <th>Acronimo</th>\n",
       "      <th>Poblacion</th>\n",
       "      <th>Sitio</th>\n",
       "      <th>Paraje</th>\n",
       "      <th>Altitud</th>\n",
       "      <th>Exposicion</th>\n",
       "      <th>Pendiente</th>\n",
       "      <th>Cantidad Luz</th>\n",
       "      <th>Adultos</th>\n",
       "      <th>Juveniles</th>\n",
       "      <th>Tipo de vegetacion</th>\n",
       "      <th>Posicion topografica</th>\n",
       "      <th>Este</th>\n",
       "      <th>Norte</th>\n",
       "      <th>Fecha caracterizacion</th>\n",
       "      <th>Observaciones</th>\n",
       "    </tr>\n",
       "  </thead>\n",
       "  <tbody>\n",
       "    <tr>\n",
       "      <th>0</th>\n",
       "      <td>Q. nixoniana</td>\n",
       "      <td>Qnx</td>\n",
       "      <td>3</td>\n",
       "      <td>1</td>\n",
       "      <td>Almial</td>\n",
       "      <td>2159</td>\n",
       "      <td>NE</td>\n",
       "      <td>5.0</td>\n",
       "      <td>580.0</td>\n",
       "      <td>2.0</td>\n",
       "      <td>59.0</td>\n",
       "      <td>QQ</td>\n",
       "      <td>LA</td>\n",
       "      <td>578690</td>\n",
       "      <td>2163575</td>\n",
       "      <td>28-ene-19</td>\n",
       "      <td>NaN</td>\n",
       "    </tr>\n",
       "    <tr>\n",
       "      <th>1</th>\n",
       "      <td>Q. nixoniana</td>\n",
       "      <td>Qnx</td>\n",
       "      <td>3</td>\n",
       "      <td>2</td>\n",
       "      <td>Mirador</td>\n",
       "      <td>2100</td>\n",
       "      <td>SO</td>\n",
       "      <td>80.0</td>\n",
       "      <td>1140.0</td>\n",
       "      <td>1.0</td>\n",
       "      <td>0.0</td>\n",
       "      <td>PQ</td>\n",
       "      <td>LM</td>\n",
       "      <td>577007</td>\n",
       "      <td>2165135</td>\n",
       "      <td>28-ene-19</td>\n",
       "      <td>NaN</td>\n",
       "    </tr>\n",
       "    <tr>\n",
       "      <th>2</th>\n",
       "      <td>Q. nixoniana</td>\n",
       "      <td>Qnx</td>\n",
       "      <td>3</td>\n",
       "      <td>3</td>\n",
       "      <td>Mirador</td>\n",
       "      <td>2069</td>\n",
       "      <td>NO</td>\n",
       "      <td>40.0</td>\n",
       "      <td>203.0</td>\n",
       "      <td>4.0</td>\n",
       "      <td>1.0</td>\n",
       "      <td>QQ</td>\n",
       "      <td>LM</td>\n",
       "      <td>576986</td>\n",
       "      <td>2165383</td>\n",
       "      <td>28-ene-19</td>\n",
       "      <td>NaN</td>\n",
       "    </tr>\n",
       "    <tr>\n",
       "      <th>3</th>\n",
       "      <td>Q. nixoniana</td>\n",
       "      <td>Qnx</td>\n",
       "      <td>2</td>\n",
       "      <td>1</td>\n",
       "      <td>Corralitos</td>\n",
       "      <td>1830</td>\n",
       "      <td>SO</td>\n",
       "      <td>48.0</td>\n",
       "      <td>811.0</td>\n",
       "      <td>1.0</td>\n",
       "      <td>23.0</td>\n",
       "      <td>VS</td>\n",
       "      <td>LM</td>\n",
       "      <td>572733</td>\n",
       "      <td>2168350</td>\n",
       "      <td>27-ene-19</td>\n",
       "      <td>NaN</td>\n",
       "    </tr>\n",
       "    <tr>\n",
       "      <th>4</th>\n",
       "      <td>Q. nixoniana</td>\n",
       "      <td>Qnx</td>\n",
       "      <td>1</td>\n",
       "      <td>1</td>\n",
       "      <td>Puerto Martinez</td>\n",
       "      <td>1386</td>\n",
       "      <td>NaN</td>\n",
       "      <td>NaN</td>\n",
       "      <td>NaN</td>\n",
       "      <td>NaN</td>\n",
       "      <td>NaN</td>\n",
       "      <td>NaN</td>\n",
       "      <td>NaN</td>\n",
       "      <td>577159</td>\n",
       "      <td>2160893</td>\n",
       "      <td>NaN</td>\n",
       "      <td>NaN</td>\n",
       "    </tr>\n",
       "  </tbody>\n",
       "</table>\n",
       "</div>"
      ],
      "text/plain": [
       "        Especie Acronimo  Poblacion  Sitio           Paraje  Altitud  \\\n",
       "0  Q. nixoniana      Qnx          3      1           Almial     2159   \n",
       "1  Q. nixoniana      Qnx          3      2          Mirador     2100   \n",
       "2  Q. nixoniana      Qnx          3      3          Mirador     2069   \n",
       "3  Q. nixoniana      Qnx          2      1       Corralitos     1830   \n",
       "4  Q. nixoniana      Qnx          1      1  Puerto Martinez     1386   \n",
       "\n",
       "  Exposicion  Pendiente  Cantidad Luz  Adultos  Juveniles Tipo de vegetacion  \\\n",
       "0         NE        5.0         580.0      2.0       59.0                 QQ   \n",
       "1         SO       80.0        1140.0      1.0        0.0                 PQ   \n",
       "2         NO       40.0         203.0      4.0        1.0                 QQ   \n",
       "3         SO       48.0         811.0      1.0       23.0                 VS   \n",
       "4        NaN        NaN           NaN      NaN        NaN                NaN   \n",
       "\n",
       "  Posicion topografica    Este    Norte Fecha caracterizacion Observaciones  \n",
       "0                   LA  578690  2163575             28-ene-19           NaN  \n",
       "1                   LM  577007  2165135             28-ene-19           NaN  \n",
       "2                   LM  576986  2165383             28-ene-19           NaN  \n",
       "3                   LM  572733  2168350             27-ene-19           NaN  \n",
       "4                  NaN  577159  2160893                   NaN           NaN  "
      ]
     },
     "execution_count": 24,
     "metadata": {},
     "output_type": "execute_result"
    }
   ],
   "source": [
    "#abrimos la base con la que vamos a trabajar\n",
    "db = pd.read_csv('db.csv')\n",
    "db.head()"
   ]
  },
  {
   "cell_type": "code",
   "execution_count": 44,
   "metadata": {},
   "outputs": [
    {
     "data": {
      "text/plain": [
       "(42, 17)"
      ]
     },
     "execution_count": 44,
     "metadata": {},
     "output_type": "execute_result"
    }
   ],
   "source": [
    "db.shape"
   ]
  },
  {
   "cell_type": "code",
   "execution_count": 30,
   "metadata": {},
   "outputs": [
    {
     "data": {
      "text/html": [
       "<div>\n",
       "<style scoped>\n",
       "    .dataframe tbody tr th:only-of-type {\n",
       "        vertical-align: middle;\n",
       "    }\n",
       "\n",
       "    .dataframe tbody tr th {\n",
       "        vertical-align: top;\n",
       "    }\n",
       "\n",
       "    .dataframe thead th {\n",
       "        text-align: right;\n",
       "    }\n",
       "</style>\n",
       "<table border=\"1\" class=\"dataframe\">\n",
       "  <thead>\n",
       "    <tr style=\"text-align: right;\">\n",
       "      <th></th>\n",
       "      <th>Especie</th>\n",
       "      <th>Acronimo</th>\n",
       "      <th>Poblacion</th>\n",
       "      <th>Sitio</th>\n",
       "      <th>Paraje</th>\n",
       "      <th>Altitud</th>\n",
       "      <th>Exposicion</th>\n",
       "      <th>Pendiente</th>\n",
       "      <th>Cantidad Luz</th>\n",
       "      <th>Adultos</th>\n",
       "      <th>Juveniles</th>\n",
       "      <th>Tipo de vegetacion</th>\n",
       "      <th>Posicion topografica</th>\n",
       "      <th>Este</th>\n",
       "      <th>Norte</th>\n",
       "      <th>Fecha caracterizacion</th>\n",
       "      <th>Observaciones</th>\n",
       "    </tr>\n",
       "  </thead>\n",
       "  <tbody>\n",
       "    <tr>\n",
       "      <th>37</th>\n",
       "      <td>P. hintonii</td>\n",
       "      <td>Phn</td>\n",
       "      <td>2</td>\n",
       "      <td>2</td>\n",
       "      <td>Barbecho las Burras</td>\n",
       "      <td>1957</td>\n",
       "      <td>N</td>\n",
       "      <td>10.0</td>\n",
       "      <td>1211.0</td>\n",
       "      <td>2.0</td>\n",
       "      <td>1.0</td>\n",
       "      <td>VS</td>\n",
       "      <td>LM</td>\n",
       "      <td>575453</td>\n",
       "      <td>2165677</td>\n",
       "      <td>26-ene-19</td>\n",
       "      <td>NaN</td>\n",
       "    </tr>\n",
       "    <tr>\n",
       "      <th>38</th>\n",
       "      <td>P. hintonii</td>\n",
       "      <td>Phn</td>\n",
       "      <td>2</td>\n",
       "      <td>3</td>\n",
       "      <td>Las Joyas</td>\n",
       "      <td>1946</td>\n",
       "      <td>NO</td>\n",
       "      <td>4.0</td>\n",
       "      <td>1234.0</td>\n",
       "      <td>2.0</td>\n",
       "      <td>0.0</td>\n",
       "      <td>VS</td>\n",
       "      <td>LM</td>\n",
       "      <td>576082</td>\n",
       "      <td>2165797</td>\n",
       "      <td>26-ene-19</td>\n",
       "      <td>NaN</td>\n",
       "    </tr>\n",
       "    <tr>\n",
       "      <th>39</th>\n",
       "      <td>P. hintonii</td>\n",
       "      <td>Phn</td>\n",
       "      <td>1</td>\n",
       "      <td>1</td>\n",
       "      <td>La Cumbre</td>\n",
       "      <td>1785</td>\n",
       "      <td>NaN</td>\n",
       "      <td>NaN</td>\n",
       "      <td>NaN</td>\n",
       "      <td>NaN</td>\n",
       "      <td>NaN</td>\n",
       "      <td>NaN</td>\n",
       "      <td>NaN</td>\n",
       "      <td>572641</td>\n",
       "      <td>2168898</td>\n",
       "      <td>NaN</td>\n",
       "      <td>NaN</td>\n",
       "    </tr>\n",
       "    <tr>\n",
       "      <th>40</th>\n",
       "      <td>P. hintonii</td>\n",
       "      <td>Phn</td>\n",
       "      <td>1</td>\n",
       "      <td>2</td>\n",
       "      <td>La Troconera</td>\n",
       "      <td>1714</td>\n",
       "      <td>SE</td>\n",
       "      <td>65.0</td>\n",
       "      <td>279.0</td>\n",
       "      <td>15.0</td>\n",
       "      <td>5.0</td>\n",
       "      <td>MM</td>\n",
       "      <td>LM</td>\n",
       "      <td>570032</td>\n",
       "      <td>2171486</td>\n",
       "      <td>29-ene-19</td>\n",
       "      <td>NaN</td>\n",
       "    </tr>\n",
       "    <tr>\n",
       "      <th>41</th>\n",
       "      <td>P. hintonii</td>\n",
       "      <td>Phn</td>\n",
       "      <td>1</td>\n",
       "      <td>3</td>\n",
       "      <td>La Troconera</td>\n",
       "      <td>1695</td>\n",
       "      <td>E</td>\n",
       "      <td>13.0</td>\n",
       "      <td>222.0</td>\n",
       "      <td>2.0</td>\n",
       "      <td>2.0</td>\n",
       "      <td>MM</td>\n",
       "      <td>LM</td>\n",
       "      <td>569955</td>\n",
       "      <td>2171642</td>\n",
       "      <td>29-ene-19</td>\n",
       "      <td>NaN</td>\n",
       "    </tr>\n",
       "  </tbody>\n",
       "</table>\n",
       "</div>"
      ],
      "text/plain": [
       "        Especie Acronimo  Poblacion  Sitio               Paraje  Altitud  \\\n",
       "37  P. hintonii      Phn          2      2  Barbecho las Burras     1957   \n",
       "38  P. hintonii      Phn          2      3            Las Joyas     1946   \n",
       "39  P. hintonii      Phn          1      1            La Cumbre     1785   \n",
       "40  P. hintonii      Phn          1      2         La Troconera     1714   \n",
       "41  P. hintonii      Phn          1      3         La Troconera     1695   \n",
       "\n",
       "   Exposicion  Pendiente  Cantidad Luz  Adultos  Juveniles Tipo de vegetacion  \\\n",
       "37          N       10.0        1211.0      2.0        1.0                 VS   \n",
       "38         NO        4.0        1234.0      2.0        0.0                 VS   \n",
       "39        NaN        NaN           NaN      NaN        NaN                NaN   \n",
       "40         SE       65.0         279.0     15.0        5.0                 MM   \n",
       "41          E       13.0         222.0      2.0        2.0                 MM   \n",
       "\n",
       "   Posicion topografica    Este    Norte Fecha caracterizacion Observaciones  \n",
       "37                   LM  575453  2165677             26-ene-19           NaN  \n",
       "38                   LM  576082  2165797             26-ene-19           NaN  \n",
       "39                  NaN  572641  2168898                   NaN           NaN  \n",
       "40                   LM  570032  2171486             29-ene-19           NaN  \n",
       "41                   LM  569955  2171642             29-ene-19           NaN  "
      ]
     },
     "execution_count": 30,
     "metadata": {},
     "output_type": "execute_result"
    }
   ],
   "source": [
    "db.tail()"
   ]
  },
  {
   "cell_type": "code",
   "execution_count": 27,
   "metadata": {},
   "outputs": [
    {
     "data": {
      "text/plain": [
       "Especie                   object\n",
       "Acronimo                  object\n",
       "Poblacion                  int64\n",
       "Sitio                      int64\n",
       "Paraje                    object\n",
       "Altitud                    int64\n",
       "Exposicion                object\n",
       "Pendiente                float64\n",
       "Cantidad Luz             float64\n",
       "Adultos                  float64\n",
       "Juveniles                float64\n",
       "Tipo de vegetacion        object\n",
       "Posicion topografica      object\n",
       "Este                       int64\n",
       "Norte                      int64\n",
       "Fecha caracterizacion     object\n",
       "Observaciones             object\n",
       "dtype: object"
      ]
     },
     "execution_count": 27,
     "metadata": {},
     "output_type": "execute_result"
    }
   ],
   "source": [
    "db.dtypes"
   ]
  },
  {
   "cell_type": "markdown",
   "metadata": {},
   "source": [
    "### Explorando los datos"
   ]
  },
  {
   "cell_type": "code",
   "execution_count": 31,
   "metadata": {},
   "outputs": [
    {
     "data": {
      "text/html": [
       "<div>\n",
       "<style scoped>\n",
       "    .dataframe tbody tr th:only-of-type {\n",
       "        vertical-align: middle;\n",
       "    }\n",
       "\n",
       "    .dataframe tbody tr th {\n",
       "        vertical-align: top;\n",
       "    }\n",
       "\n",
       "    .dataframe thead th {\n",
       "        text-align: right;\n",
       "    }\n",
       "</style>\n",
       "<table border=\"1\" class=\"dataframe\">\n",
       "  <thead>\n",
       "    <tr style=\"text-align: right;\">\n",
       "      <th></th>\n",
       "      <th>Poblacion</th>\n",
       "      <th>Sitio</th>\n",
       "      <th>Altitud</th>\n",
       "      <th>Pendiente</th>\n",
       "      <th>Cantidad Luz</th>\n",
       "      <th>Adultos</th>\n",
       "      <th>Juveniles</th>\n",
       "      <th>Este</th>\n",
       "      <th>Norte</th>\n",
       "    </tr>\n",
       "  </thead>\n",
       "  <tbody>\n",
       "    <tr>\n",
       "      <th>count</th>\n",
       "      <td>42.000000</td>\n",
       "      <td>42.000000</td>\n",
       "      <td>42.000000</td>\n",
       "      <td>38.000000</td>\n",
       "      <td>38.000000</td>\n",
       "      <td>38.000000</td>\n",
       "      <td>38.000000</td>\n",
       "      <td>42.000000</td>\n",
       "      <td>4.200000e+01</td>\n",
       "    </tr>\n",
       "    <tr>\n",
       "      <th>mean</th>\n",
       "      <td>2.238095</td>\n",
       "      <td>1.952381</td>\n",
       "      <td>1918.928571</td>\n",
       "      <td>30.289474</td>\n",
       "      <td>559.447368</td>\n",
       "      <td>3.894737</td>\n",
       "      <td>9.315789</td>\n",
       "      <td>576011.261905</td>\n",
       "      <td>2.165811e+06</td>\n",
       "    </tr>\n",
       "    <tr>\n",
       "      <th>std</th>\n",
       "      <td>0.758996</td>\n",
       "      <td>0.824987</td>\n",
       "      <td>240.650784</td>\n",
       "      <td>24.099914</td>\n",
       "      <td>470.035864</td>\n",
       "      <td>4.881235</td>\n",
       "      <td>15.237055</td>\n",
       "      <td>2786.169606</td>\n",
       "      <td>2.859935e+03</td>\n",
       "    </tr>\n",
       "    <tr>\n",
       "      <th>min</th>\n",
       "      <td>1.000000</td>\n",
       "      <td>1.000000</td>\n",
       "      <td>1154.000000</td>\n",
       "      <td>2.000000</td>\n",
       "      <td>10.000000</td>\n",
       "      <td>1.000000</td>\n",
       "      <td>0.000000</td>\n",
       "      <td>569955.000000</td>\n",
       "      <td>2.159429e+06</td>\n",
       "    </tr>\n",
       "    <tr>\n",
       "      <th>25%</th>\n",
       "      <td>2.000000</td>\n",
       "      <td>1.000000</td>\n",
       "      <td>1814.250000</td>\n",
       "      <td>10.750000</td>\n",
       "      <td>141.250000</td>\n",
       "      <td>1.000000</td>\n",
       "      <td>2.000000</td>\n",
       "      <td>573484.500000</td>\n",
       "      <td>2.163511e+06</td>\n",
       "    </tr>\n",
       "    <tr>\n",
       "      <th>50%</th>\n",
       "      <td>2.000000</td>\n",
       "      <td>2.000000</td>\n",
       "      <td>1957.000000</td>\n",
       "      <td>23.500000</td>\n",
       "      <td>381.500000</td>\n",
       "      <td>2.000000</td>\n",
       "      <td>4.000000</td>\n",
       "      <td>576074.000000</td>\n",
       "      <td>2.165784e+06</td>\n",
       "    </tr>\n",
       "    <tr>\n",
       "      <th>75%</th>\n",
       "      <td>3.000000</td>\n",
       "      <td>3.000000</td>\n",
       "      <td>2110.000000</td>\n",
       "      <td>43.750000</td>\n",
       "      <td>1066.000000</td>\n",
       "      <td>4.000000</td>\n",
       "      <td>10.000000</td>\n",
       "      <td>578510.000000</td>\n",
       "      <td>2.167995e+06</td>\n",
       "    </tr>\n",
       "    <tr>\n",
       "      <th>max</th>\n",
       "      <td>3.000000</td>\n",
       "      <td>3.000000</td>\n",
       "      <td>2300.000000</td>\n",
       "      <td>98.000000</td>\n",
       "      <td>1274.000000</td>\n",
       "      <td>20.000000</td>\n",
       "      <td>70.000000</td>\n",
       "      <td>581290.000000</td>\n",
       "      <td>2.171642e+06</td>\n",
       "    </tr>\n",
       "  </tbody>\n",
       "</table>\n",
       "</div>"
      ],
      "text/plain": [
       "       Poblacion      Sitio      Altitud  Pendiente  Cantidad Luz    Adultos  \\\n",
       "count  42.000000  42.000000    42.000000  38.000000     38.000000  38.000000   \n",
       "mean    2.238095   1.952381  1918.928571  30.289474    559.447368   3.894737   \n",
       "std     0.758996   0.824987   240.650784  24.099914    470.035864   4.881235   \n",
       "min     1.000000   1.000000  1154.000000   2.000000     10.000000   1.000000   \n",
       "25%     2.000000   1.000000  1814.250000  10.750000    141.250000   1.000000   \n",
       "50%     2.000000   2.000000  1957.000000  23.500000    381.500000   2.000000   \n",
       "75%     3.000000   3.000000  2110.000000  43.750000   1066.000000   4.000000   \n",
       "max     3.000000   3.000000  2300.000000  98.000000   1274.000000  20.000000   \n",
       "\n",
       "       Juveniles           Este         Norte  \n",
       "count  38.000000      42.000000  4.200000e+01  \n",
       "mean    9.315789  576011.261905  2.165811e+06  \n",
       "std    15.237055    2786.169606  2.859935e+03  \n",
       "min     0.000000  569955.000000  2.159429e+06  \n",
       "25%     2.000000  573484.500000  2.163511e+06  \n",
       "50%     4.000000  576074.000000  2.165784e+06  \n",
       "75%    10.000000  578510.000000  2.167995e+06  \n",
       "max    70.000000  581290.000000  2.171642e+06  "
      ]
     },
     "execution_count": 31,
     "metadata": {},
     "output_type": "execute_result"
    }
   ],
   "source": [
    "db.describe()"
   ]
  },
  {
   "cell_type": "code",
   "execution_count": 33,
   "metadata": {},
   "outputs": [
    {
     "data": {
      "text/plain": [
       "0      2.0\n",
       "1      1.0\n",
       "2      4.0\n",
       "3      1.0\n",
       "4      NaN\n",
       "5      NaN\n",
       "6      NaN\n",
       "7      2.0\n",
       "8      2.0\n",
       "9      1.0\n",
       "10     1.0\n",
       "11     1.0\n",
       "12     1.0\n",
       "13     2.0\n",
       "14     2.0\n",
       "15     2.0\n",
       "16     3.0\n",
       "17     5.0\n",
       "18     4.0\n",
       "19     4.0\n",
       "20     2.0\n",
       "21     4.0\n",
       "22    19.0\n",
       "23    15.0\n",
       "24    20.0\n",
       "25     1.0\n",
       "26     2.0\n",
       "27     1.0\n",
       "28     1.0\n",
       "29     5.0\n",
       "30     5.0\n",
       "31     3.0\n",
       "32     1.0\n",
       "33     3.0\n",
       "34     5.0\n",
       "35     1.0\n",
       "36     1.0\n",
       "37     2.0\n",
       "38     2.0\n",
       "39     NaN\n",
       "40    15.0\n",
       "41     2.0\n",
       "Name: Adultos, dtype: float64"
      ]
     },
     "execution_count": 33,
     "metadata": {},
     "output_type": "execute_result"
    }
   ],
   "source": [
    "db['Adultos']"
   ]
  },
  {
   "cell_type": "markdown",
   "metadata": {},
   "source": [
    "#### Resgistros con mas de 8 adultos por sitio."
   ]
  },
  {
   "cell_type": "code",
   "execution_count": 37,
   "metadata": {
    "scrolled": true
   },
   "outputs": [
    {
     "data": {
      "text/html": [
       "<div>\n",
       "<style scoped>\n",
       "    .dataframe tbody tr th:only-of-type {\n",
       "        vertical-align: middle;\n",
       "    }\n",
       "\n",
       "    .dataframe tbody tr th {\n",
       "        vertical-align: top;\n",
       "    }\n",
       "\n",
       "    .dataframe thead th {\n",
       "        text-align: right;\n",
       "    }\n",
       "</style>\n",
       "<table border=\"1\" class=\"dataframe\">\n",
       "  <thead>\n",
       "    <tr style=\"text-align: right;\">\n",
       "      <th></th>\n",
       "      <th>Especie</th>\n",
       "      <th>Acronimo</th>\n",
       "      <th>Poblacion</th>\n",
       "      <th>Sitio</th>\n",
       "      <th>Paraje</th>\n",
       "      <th>Altitud</th>\n",
       "      <th>Exposicion</th>\n",
       "      <th>Pendiente</th>\n",
       "      <th>Cantidad Luz</th>\n",
       "      <th>Adultos</th>\n",
       "      <th>Juveniles</th>\n",
       "      <th>Tipo de vegetacion</th>\n",
       "      <th>Posicion topografica</th>\n",
       "      <th>Este</th>\n",
       "      <th>Norte</th>\n",
       "      <th>Fecha caracterizacion</th>\n",
       "      <th>Observaciones</th>\n",
       "    </tr>\n",
       "  </thead>\n",
       "  <tbody>\n",
       "    <tr>\n",
       "      <th>22</th>\n",
       "      <td>S. ramirezii</td>\n",
       "      <td>Srm</td>\n",
       "      <td>2</td>\n",
       "      <td>1</td>\n",
       "      <td>La Puerta</td>\n",
       "      <td>1941</td>\n",
       "      <td>NE</td>\n",
       "      <td>23.0</td>\n",
       "      <td>24.0</td>\n",
       "      <td>19.0</td>\n",
       "      <td>25.0</td>\n",
       "      <td>PM</td>\n",
       "      <td>LM</td>\n",
       "      <td>573675</td>\n",
       "      <td>2167367</td>\n",
       "      <td>27-ene-19</td>\n",
       "      <td>NaN</td>\n",
       "    </tr>\n",
       "    <tr>\n",
       "      <th>23</th>\n",
       "      <td>S. ramirezii</td>\n",
       "      <td>Srm</td>\n",
       "      <td>2</td>\n",
       "      <td>2</td>\n",
       "      <td>La mosa-Charco de los perros</td>\n",
       "      <td>1962</td>\n",
       "      <td>E</td>\n",
       "      <td>18.0</td>\n",
       "      <td>175.0</td>\n",
       "      <td>15.0</td>\n",
       "      <td>31.0</td>\n",
       "      <td>PM</td>\n",
       "      <td>LM</td>\n",
       "      <td>573471</td>\n",
       "      <td>2167179</td>\n",
       "      <td>27-ene-19</td>\n",
       "      <td>NaN</td>\n",
       "    </tr>\n",
       "    <tr>\n",
       "      <th>24</th>\n",
       "      <td>S. ramirezii</td>\n",
       "      <td>Srm</td>\n",
       "      <td>2</td>\n",
       "      <td>3</td>\n",
       "      <td>Charco de los perros</td>\n",
       "      <td>1960</td>\n",
       "      <td>N</td>\n",
       "      <td>22.0</td>\n",
       "      <td>102.0</td>\n",
       "      <td>20.0</td>\n",
       "      <td>7.0</td>\n",
       "      <td>PM</td>\n",
       "      <td>LM</td>\n",
       "      <td>573389</td>\n",
       "      <td>2167310</td>\n",
       "      <td>27-ene-19</td>\n",
       "      <td>NaN</td>\n",
       "    </tr>\n",
       "    <tr>\n",
       "      <th>40</th>\n",
       "      <td>P. hintonii</td>\n",
       "      <td>Phn</td>\n",
       "      <td>1</td>\n",
       "      <td>2</td>\n",
       "      <td>La Troconera</td>\n",
       "      <td>1714</td>\n",
       "      <td>SE</td>\n",
       "      <td>65.0</td>\n",
       "      <td>279.0</td>\n",
       "      <td>15.0</td>\n",
       "      <td>5.0</td>\n",
       "      <td>MM</td>\n",
       "      <td>LM</td>\n",
       "      <td>570032</td>\n",
       "      <td>2171486</td>\n",
       "      <td>29-ene-19</td>\n",
       "      <td>NaN</td>\n",
       "    </tr>\n",
       "  </tbody>\n",
       "</table>\n",
       "</div>"
      ],
      "text/plain": [
       "         Especie Acronimo  Poblacion  Sitio                        Paraje  \\\n",
       "22  S. ramirezii      Srm          2      1                     La Puerta   \n",
       "23  S. ramirezii      Srm          2      2  La mosa-Charco de los perros   \n",
       "24  S. ramirezii      Srm          2      3          Charco de los perros   \n",
       "40   P. hintonii      Phn          1      2                  La Troconera   \n",
       "\n",
       "    Altitud Exposicion  Pendiente  Cantidad Luz  Adultos  Juveniles  \\\n",
       "22     1941         NE       23.0          24.0     19.0       25.0   \n",
       "23     1962          E       18.0         175.0     15.0       31.0   \n",
       "24     1960          N       22.0         102.0     20.0        7.0   \n",
       "40     1714         SE       65.0         279.0     15.0        5.0   \n",
       "\n",
       "   Tipo de vegetacion Posicion topografica    Este    Norte  \\\n",
       "22                 PM                   LM  573675  2167367   \n",
       "23                 PM                   LM  573471  2167179   \n",
       "24                 PM                   LM  573389  2167310   \n",
       "40                 MM                   LM  570032  2171486   \n",
       "\n",
       "   Fecha caracterizacion Observaciones  \n",
       "22             27-ene-19           NaN  \n",
       "23             27-ene-19           NaN  \n",
       "24             27-ene-19           NaN  \n",
       "40             29-ene-19           NaN  "
      ]
     },
     "execution_count": 37,
     "metadata": {},
     "output_type": "execute_result"
    }
   ],
   "source": [
    "db[db.Adultos > 8]"
   ]
  },
  {
   "cell_type": "code",
   "execution_count": 39,
   "metadata": {},
   "outputs": [
    {
     "data": {
      "text/plain": [
       "count    38.000000\n",
       "mean      3.894737\n",
       "std       4.881235\n",
       "min       1.000000\n",
       "25%       1.000000\n",
       "50%       2.000000\n",
       "75%       4.000000\n",
       "max      20.000000\n",
       "Name: Adultos, dtype: float64"
      ]
     },
     "execution_count": 39,
     "metadata": {},
     "output_type": "execute_result"
    }
   ],
   "source": [
    "#Resumen de adultos por sitio\n",
    "db['Adultos'].describe()"
   ]
  },
  {
   "cell_type": "code",
   "execution_count": 42,
   "metadata": {},
   "outputs": [
    {
     "data": {
      "text/html": [
       "<div>\n",
       "<style scoped>\n",
       "    .dataframe tbody tr th:only-of-type {\n",
       "        vertical-align: middle;\n",
       "    }\n",
       "\n",
       "    .dataframe tbody tr th {\n",
       "        vertical-align: top;\n",
       "    }\n",
       "\n",
       "    .dataframe thead th {\n",
       "        text-align: right;\n",
       "    }\n",
       "</style>\n",
       "<table border=\"1\" class=\"dataframe\">\n",
       "  <thead>\n",
       "    <tr style=\"text-align: right;\">\n",
       "      <th></th>\n",
       "      <th>Acronimo</th>\n",
       "      <th>Sitio</th>\n",
       "      <th>Paraje</th>\n",
       "      <th>Adultos</th>\n",
       "      <th>Juveniles</th>\n",
       "    </tr>\n",
       "  </thead>\n",
       "  <tbody>\n",
       "    <tr>\n",
       "      <th>0</th>\n",
       "      <td>Qnx</td>\n",
       "      <td>1</td>\n",
       "      <td>Almial</td>\n",
       "      <td>2.0</td>\n",
       "      <td>59.0</td>\n",
       "    </tr>\n",
       "    <tr>\n",
       "      <th>1</th>\n",
       "      <td>Qnx</td>\n",
       "      <td>2</td>\n",
       "      <td>Mirador</td>\n",
       "      <td>1.0</td>\n",
       "      <td>0.0</td>\n",
       "    </tr>\n",
       "    <tr>\n",
       "      <th>2</th>\n",
       "      <td>Qnx</td>\n",
       "      <td>3</td>\n",
       "      <td>Mirador</td>\n",
       "      <td>4.0</td>\n",
       "      <td>1.0</td>\n",
       "    </tr>\n",
       "    <tr>\n",
       "      <th>3</th>\n",
       "      <td>Qnx</td>\n",
       "      <td>1</td>\n",
       "      <td>Corralitos</td>\n",
       "      <td>1.0</td>\n",
       "      <td>23.0</td>\n",
       "    </tr>\n",
       "    <tr>\n",
       "      <th>4</th>\n",
       "      <td>Qnx</td>\n",
       "      <td>1</td>\n",
       "      <td>Puerto Martinez</td>\n",
       "      <td>NaN</td>\n",
       "      <td>NaN</td>\n",
       "    </tr>\n",
       "  </tbody>\n",
       "</table>\n",
       "</div>"
      ],
      "text/plain": [
       "  Acronimo  Sitio           Paraje  Adultos  Juveniles\n",
       "0      Qnx      1           Almial      2.0       59.0\n",
       "1      Qnx      2          Mirador      1.0        0.0\n",
       "2      Qnx      3          Mirador      4.0        1.0\n",
       "3      Qnx      1       Corralitos      1.0       23.0\n",
       "4      Qnx      1  Puerto Martinez      NaN        NaN"
      ]
     },
     "execution_count": 42,
     "metadata": {},
     "output_type": "execute_result"
    }
   ],
   "source": [
    "explora = db.iloc[:, [1,3,4,9,10]] #devuelve toda la información contenida en la db pero solo de ciertas columnas.\n",
    "explora.head()"
   ]
  },
  {
   "cell_type": "code",
   "execution_count": 43,
   "metadata": {},
   "outputs": [
    {
     "data": {
      "text/html": [
       "<div>\n",
       "<style scoped>\n",
       "    .dataframe tbody tr th:only-of-type {\n",
       "        vertical-align: middle;\n",
       "    }\n",
       "\n",
       "    .dataframe tbody tr th {\n",
       "        vertical-align: top;\n",
       "    }\n",
       "\n",
       "    .dataframe thead th {\n",
       "        text-align: right;\n",
       "    }\n",
       "</style>\n",
       "<table border=\"1\" class=\"dataframe\">\n",
       "  <thead>\n",
       "    <tr style=\"text-align: right;\">\n",
       "      <th></th>\n",
       "      <th>Sitio</th>\n",
       "      <th>Adultos</th>\n",
       "      <th>Juveniles</th>\n",
       "    </tr>\n",
       "  </thead>\n",
       "  <tbody>\n",
       "    <tr>\n",
       "      <th>Sitio</th>\n",
       "      <td>1.000000</td>\n",
       "      <td>0.053207</td>\n",
       "      <td>-0.333966</td>\n",
       "    </tr>\n",
       "    <tr>\n",
       "      <th>Adultos</th>\n",
       "      <td>0.053207</td>\n",
       "      <td>1.000000</td>\n",
       "      <td>0.193417</td>\n",
       "    </tr>\n",
       "    <tr>\n",
       "      <th>Juveniles</th>\n",
       "      <td>-0.333966</td>\n",
       "      <td>0.193417</td>\n",
       "      <td>1.000000</td>\n",
       "    </tr>\n",
       "  </tbody>\n",
       "</table>\n",
       "</div>"
      ],
      "text/plain": [
       "              Sitio   Adultos  Juveniles\n",
       "Sitio      1.000000  0.053207  -0.333966\n",
       "Adultos    0.053207  1.000000   0.193417\n",
       "Juveniles -0.333966  0.193417   1.000000"
      ]
     },
     "execution_count": 43,
     "metadata": {},
     "output_type": "execute_result"
    }
   ],
   "source": [
    "#correlación entre variables\n",
    "explora.corr()"
   ]
  },
  {
   "cell_type": "code",
   "execution_count": 49,
   "metadata": {},
   "outputs": [
    {
     "data": {
      "text/plain": [
       "<matplotlib.collections.PathCollection at 0x18a0e877390>"
      ]
     },
     "execution_count": 49,
     "metadata": {},
     "output_type": "execute_result"
    },
    {
     "data": {
      "image/png": "[encoded data removed]",
      "text/plain": [
       "<Figure size 432x288 with 1 Axes>"
      ]
     },
     "metadata": {
      "needs_background": "light"
     },
     "output_type": "display_data"
    }
   ],
   "source": [
    "scatter(db.Sitio, db.Adultos)"
   ]
  },
  {
   "cell_type": "markdown",
   "metadata": {},
   "source": [
    "## Bueno, por la naturaleza de los datos este tipo de graficos no nos dice mucho"
   ]
  },
  {
   "cell_type": "code",
   "execution_count": 50,
   "metadata": {},
   "outputs": [
    {
     "data": {
      "text/plain": [
       "[<matplotlib.lines.Line2D at 0x18a0e8c0518>]"
      ]
     },
     "execution_count": 50,
     "metadata": {},
     "output_type": "execute_result"
    },
    {
     "data": {
      "image/png": "[encoded data removed]",
      "text/plain": [
       "<Figure size 432x288 with 1 Axes>"
      ]
     },
     "metadata": {
      "needs_background": "light"
     },
     "output_type": "display_data"
    }
   ],
   "source": [
    "plot(db.Sitio, db.Adultos)"
   ]
  },
  {
   "cell_type": "code",
   "execution_count": 59,
   "metadata": {},
   "outputs": [
    {
     "name": "stderr",
     "output_type": "stream",
     "text": [
      "D:\\ProgramData\\Anaconda\\lib\\site-packages\\ipykernel_launcher.py:1: MatplotlibDeprecationWarning: Passing the drawstyle with the linestyle as a single string is deprecated since Matplotlib 3.1 and support will be removed in 3.3; please pass the drawstyle separately using the drawstyle keyword argument to Line2D or set_drawstyle() method (or ds/set_ds()).\n",
      "  \"\"\"Entry point for launching an IPython kernel.\n"
     ]
    },
    {
     "data": {
      "image/png": "[encoded data removed]",
      "text/plain": [
       "<Figure size 432x288 with 1 Axes>"
      ]
     },
     "metadata": {
      "needs_background": "light"
     },
     "output_type": "display_data"
    }
   ],
   "source": [
    "plot(db.Sitio, db.Adultos, color='red',linewidth=5, linestyle = 'steps')\n",
    "xlabel('Sitio')\n",
    "ylabel('Adultos')\n",
    "title('Número de adultos por sitio muestreado')\n",
    "\n",
    "show;"
   ]
  },
  {
   "cell_type": "code",
   "execution_count": 58,
   "metadata": {},
   "outputs": [
    {
     "data": {
      "image/png": "[encoded data removed]",
      "text/plain": [
       "<Figure size 432x288 with 2 Axes>"
      ]
     },
     "metadata": {
      "needs_background": "light"
     },
     "output_type": "display_data"
    }
   ],
   "source": [
    "boxplot = db.boxplot(column=['Adultos', 'Juveniles'], by=['Sitio'])"
   ]
  },
  {
   "cell_type": "code",
   "execution_count": 60,
   "metadata": {
    "scrolled": true
   },
   "outputs": [
    {
     "data": {
      "image/png": "[encoded data removed]",
      "text/plain": [
       "<Figure size 432x288 with 1 Axes>"
      ]
     },
     "metadata": {
      "needs_background": "light"
     },
     "output_type": "display_data"
    }
   ],
   "source": [
    "boxplot = db.boxplot(column=['Adultos'], by=['Sitio'])"
   ]
  },
  {
   "cell_type": "code",
   "execution_count": 61,
   "metadata": {},
   "outputs": [
    {
     "data": {
      "image/png": "[encoded data removed]",
      "text/plain": [
       "<Figure size 432x288 with 1 Axes>"
      ]
     },
     "metadata": {
      "needs_background": "light"
     },
     "output_type": "display_data"
    }
   ],
   "source": [
    "boxplot = db.boxplot(column=['Juveniles'], by=['Sitio'])"
   ]
  },
  {
   "cell_type": "code",
   "execution_count": 56,
   "metadata": {},
   "outputs": [
    {
     "data": {
      "image/png": "[encoded data removed]",
      "text/plain": [
       "<Figure size 432x288 with 1 Axes>"
      ]
     },
     "metadata": {
      "needs_background": "light"
     },
     "output_type": "display_data"
    }
   ],
   "source": [
    "boxplot = db.boxplot(column=['Adultos'], by=['Sitio', 'Paraje'])"
   ]
  },
  {
   "cell_type": "code",
   "execution_count": 57,
   "metadata": {},
   "outputs": [
    {
     "data": {
      "image/png": "[encoded data removed]",
      "text/plain": [
       "<Figure size 432x288 with 1 Axes>"
      ]
     },
     "metadata": {
      "needs_background": "light"
     },
     "output_type": "display_data"
    }
   ],
   "source": [
    "boxplot = db.boxplot(column=['Juveniles'], by=['Sitio', 'Paraje'])"
   ]
  }
 ],
 "metadata": {
  "kernelspec": {
   "display_name": "Python 3",
   "language": "python",
   "name": "python3"
  },
  "language_info": {
   "codemirror_mode": {
    "name": "ipython",
    "version": 3
   },
   "file_extension": ".py",
   "mimetype": "text/x-python",
   "name": "python",
   "nbconvert_exporter": "python",
   "pygments_lexer": "ipython3",
   "version": "3.7.3"
  }
 },
 "nbformat": 4,
 "nbformat_minor": 4
}
